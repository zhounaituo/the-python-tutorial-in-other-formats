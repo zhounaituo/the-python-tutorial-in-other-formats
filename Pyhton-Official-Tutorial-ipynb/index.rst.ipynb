{
 "cells": [
  {
   "cell_type": "markdown",
   "metadata": {},
   "source": [
    "$$\n",
    "\\def\\CC{\\bf C}\n",
    "\\def\\QQ{\\bf Q}\n",
    "\\def\\RR{\\bf R}\n",
    "\\def\\ZZ{\\bf Z}\n",
    "\\def\\NN{\\bf N}\n",
    "$$\n",
    "# The Python Tutorial\n",
    "\n",
    "Python is an easy to learn, powerful programming language. It has efficient high-level data structures and a simple but effective approach to object-oriented programming. Python's elegant syntax and dynamic typing, together with its interpreted nature, make it an ideal language for scripting and rapid application development in many areas on most platforms.\n",
    "\n",
    "The Python interpreter and the extensive standard library are freely available in source or binary form for all major platforms from the Python Web site, <https://www.python.org/>, and may be freely distributed. The same site also contains distributions of and pointers to many free third party Python modules, programs and tools, and additional documentation.\n",
    "\n",
    "The Python interpreter is easily extended with new functions and data types implemented in C or C++ (or other languages callable from C). Python is also suitable as an extension language for customizable applications.\n",
    "\n",
    "This tutorial introduces the reader informally to the basic concepts and features of the Python language and system. It helps to have a Python interpreter handy for hands-on experience, but all examples are self-contained, so the tutorial can be read off-line as well.\n",
    "\n",
    "For a description of standard objects and modules, see [library-index](library-index.ipynb). [reference-index](reference-index.ipynb) gives a more formal definition of the language. To write extensions in C or C++, read [extending-index](extending-index.ipynb) and [c-api-index](c-api-index.ipynb). There are also several books covering Python in depth.\n",
    "\n",
    "This tutorial does not attempt to be comprehensive and cover every single feature, or even every commonly used feature. Instead, it introduces many of Python's most noteworthy features, and will give you a good idea of the language's flavor and style. After reading it, you will be able to read and write Python modules and programs, and you will be ready to learn more about the various Python library modules described in [library-index](library-index.ipynb).\n",
    "\n",
    "The [glossary](glossary.ipynb) is also worth going through.\n",
    "\n",
    "> - [appetite](appetite.rst.ipynb)\n",
    "> - [interpreter](interpreter.rst.ipynb)\n",
    "> - [introduction](introduction.rst.ipynb)\n",
    "> - [controlflow](controlflow.rst.ipynb)\n",
    "> - [datastructures](datastructures.rst.ipynb)\n",
    "> - [modules](modules.rst.ipynb)\n",
    "> - [inputoutput](inputoutput.rst.ipynb)\n",
    "> - [errors](errors.rst.ipynb)\n",
    "> - [classes](classes.rst.ipynb)\n",
    "> - [stdlib](stdlib.rst.ipynb)\n",
    "> - [stdlib2](stdlib2.rst.ipynb)\n",
    "> - [venv](venv.rst.ipynb)\n",
    "> - [whatnow](whatnow.rst.ipynb)\n",
    "> - [interactive](interactive.rst.ipynb)\n",
    "> - [floatingpoint](floatingpoint.rst.ipynb)\n",
    "> - [appendix](appendix.rst.ipynb)"
   ]
  },
  {
   "cell_type": "code",
   "execution_count": null,
   "metadata": {},
   "outputs": [],
   "source": [
    "a = ['appetite.rst.ipynb',\n",
    "'interpreter.rst.ipynb',\n",
    "'introduction.rst.ipynb',\n",
    "'controlflow.rst.ipynb',\n",
    "'datastructures.rst.ipynb',\n",
    "'modules.rst.ipynb',\n",
    "'inputoutput.rst.ipynb',\n",
    "'errors.rst.ipynb',\n",
    "'classes.rst.ipynb',\n",
    "'stdlib.rst.ipynb',\n",
    "'stdlib2.rst.ipynb',\n",
    "'venv.rst.ipynb',\n",
    "'whatnow.rst.ipynb',\n",
    "'interactive.rst.ipynb',\n",
    "'floatingpoint.rst.ipynb',\n",
    "'appendix.rst.ipynb']\n"
   ]
  },
  {
   "cell_type": "code",
   "execution_count": null,
   "metadata": {},
   "outputs": [],
   "source": [
    "import re\n",
    "patte = r'^\\w+'\n",
    "for i in a:\n",
    "    for e in re.findall(patte,i):\n",
    "        print(f'> - [{e}]({i})')"
   ]
  },
  {
   "cell_type": "code",
   "execution_count": 28,
   "metadata": {
    "scrolled": true,
    "tags": []
   },
   "outputs": [
    {
     "ename": "TypeError",
     "evalue": "'module' object is not callable",
     "output_type": "error",
     "traceback": [
      "\u001b[1;31m---------------------------------------------------------------------------\u001b[0m",
      "\u001b[1;31mTypeError\u001b[0m                                 Traceback (most recent call last)",
      "\u001b[1;32m~\\AppData\\Local\\Temp/ipykernel_16812/284891627.py\u001b[0m in \u001b[0;36m<module>\u001b[1;34m\u001b[0m\n\u001b[0;32m      3\u001b[0m \u001b[0mpath\u001b[0m \u001b[1;33m=\u001b[0m \u001b[1;34mr'D:\\Users\\admin\\Desktop\\the-python-tutorial-in-other-formats\\Pyhton-Official-Tutorial-ipynb'\u001b[0m\u001b[1;33m\u001b[0m\u001b[1;33m\u001b[0m\u001b[0m\n\u001b[0;32m      4\u001b[0m \u001b[1;33m\u001b[0m\u001b[0m\n\u001b[1;32m----> 5\u001b[1;33m \u001b[0mos\u001b[0m\u001b[1;33m.\u001b[0m\u001b[0mpath\u001b[0m\u001b[1;33m(\u001b[0m\u001b[0mpath\u001b[0m\u001b[1;33m)\u001b[0m\u001b[1;33m\u001b[0m\u001b[1;33m\u001b[0m\u001b[0m\n\u001b[0m",
      "\u001b[1;31mTypeError\u001b[0m: 'module' object is not callable"
     ]
    }
   ],
   "source": [
    "import os\n",
    "import re\n",
    "path = r'D:\\Users\\admin\\Desktop\\the-python-tutorial-in-other-formats\\Pyhton-Official-Tutorial-ipynb'\n",
    "os.path(path)"
   ]
  },
  {
   "cell_type": "code",
   "execution_count": null,
   "metadata": {},
   "outputs": [],
   "source": []
  }
 ],
 "metadata": {
  "kernelspec": {
   "display_name": "Python 3 (ipykernel)",
   "language": "python",
   "name": "python3"
  },
  "language_info": {
   "codemirror_mode": {
    "name": "ipython",
    "version": 3
   },
   "file_extension": ".py",
   "mimetype": "text/x-python",
   "name": "python",
   "nbconvert_exporter": "python",
   "pygments_lexer": "ipython3",
   "version": "3.9.7"
  }
 },
 "nbformat": 4,
 "nbformat_minor": 4
}
